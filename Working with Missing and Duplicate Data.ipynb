{
 "cells": [
  {
   "cell_type": "markdown",
   "metadata": {},
   "source": [
    "Missing or duplicate data may exist in a data set for a number of different reasons. Sometimes, missing or duplicate data is introduced as we perform cleaning and transformation tasks such as:\n",
    "\n",
    "* Combining data\n",
    "* Reindexing data\n",
    "* Reshaping data\n",
    "\n",
    "Other times, it exists in the original data set for reasons such as:\n",
    "\n",
    "* User input error\n",
    "* Data storage or conversion issues\n",
    "\n",
    "In the case of missing values, they may also exist in the original data set to purposely indicate that data is unavailable.\n",
    "\n",
    "In the Pandas Fundamentals course, we learned that there are various ways to handle missing data:\n",
    "\n",
    "* Remove any rows that have missing values\n",
    "* Remove any columns that have missing values\n",
    "* Fill the missing values with some other value\n",
    "* Leave the missing values as is"
   ]
  }
 ],
 "metadata": {
  "kernelspec": {
   "display_name": "Python 3",
   "language": "python",
   "name": "python3"
  },
  "language_info": {
   "codemirror_mode": {
    "name": "ipython",
    "version": 3
   },
   "file_extension": ".py",
   "mimetype": "text/x-python",
   "name": "python",
   "nbconvert_exporter": "python",
   "pygments_lexer": "ipython3",
   "version": "3.7.6"
  },
  "toc": {
   "base_numbering": 1,
   "nav_menu": {},
   "number_sections": true,
   "sideBar": true,
   "skip_h1_title": false,
   "title_cell": "Table of Contents",
   "title_sidebar": "Contents",
   "toc_cell": false,
   "toc_position": {},
   "toc_section_display": true,
   "toc_window_display": false
  }
 },
 "nbformat": 4,
 "nbformat_minor": 4
}
